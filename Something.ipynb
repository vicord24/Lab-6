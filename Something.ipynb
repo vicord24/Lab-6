{
 "cells": [
  {
   "cell_type": "markdown",
   "metadata": {},
   "source": [
    "# This file is for the Pythong Project Called Something"
   ]
  },
  {
   "cell_type": "markdown",
   "metadata": {},
   "source": [
    "First, please enter the name of the participant, and then, you are allowed to enter a string and the length of the string."
   ]
  },
  {
   "cell_type": "code",
   "execution_count": 3,
   "metadata": {},
   "outputs": [
    {
     "name": "stdout",
     "output_type": "stream",
     "text": [
      "w\n",
      "www\n",
      "The length of the string is 1\n",
      "Welcome, w!\n"
     ]
    }
   ],
   "source": [
    "user_name = input(\"Please enter your name: \")\n",
    "user_string = input(\"Please enter a string: \")\n",
    "user_int = int(input(\"Please enter the length of the string based on your measurement: \"))\n",
    "\n",
    "print(user_string)\n",
    "\n",
    "first_char = user_string[0]\n",
    "last_char = user_string[-1]\n",
    "\n",
    "str_length = len(user_string)\n",
    "mid_index = str_length // 2\n",
    "mid_char = user_string[mid_index]\n",
    "\n",
    "new_str = first_char + mid_char + last_char\n",
    "\n",
    "\n",
    "if str_length != user_int:\n",
    "    print(\"The length of the string does not match with the given number.\")\n",
    "    print(\"Access denied.\")\n",
    "else:\n",
    "    \n",
    "    print(\"The length of the string is \" + str(str_length))\n",
    "\n",
    "    \n",
    "    if str_length % 2 == 0:\n",
    "        new_str += mid_char\n",
    "        print(new_str)\n",
    "    else:\n",
    "        print(new_str)\n",
    "\n",
    "    \n",
    "    if user_name.lower() == \"admin\":\n",
    "        print(\"Welcome, Admin!\")\n",
    "    else:\n",
    "        print(\"Welcome, \" + user_name + \"!\")\n",
    "\n"
   ]
  },
  {
   "cell_type": "markdown",
   "metadata": {},
   "source": [
    "The project will create a new string based on the given string and check if the string is valid with the given number. And then it will check if the user can enter the system or not."
   ]
  }
 ],
 "metadata": {
  "kernelspec": {
   "display_name": "Python 3",
   "language": "python",
   "name": "python3"
  },
  "language_info": {
   "codemirror_mode": {
    "name": "ipython",
    "version": 3
   },
   "file_extension": ".py",
   "mimetype": "text/x-python",
   "name": "python",
   "nbconvert_exporter": "python",
   "pygments_lexer": "ipython3",
   "version": "3.11.9"
  }
 },
 "nbformat": 4,
 "nbformat_minor": 2
}
